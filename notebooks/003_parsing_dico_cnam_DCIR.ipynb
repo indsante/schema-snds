{
 "cells": [
  {
   "cell_type": "code",
   "execution_count": 1,
   "metadata": {},
   "outputs": [],
   "source": [
    "import os\n",
    "os.chdir(\"..\")"
   ]
  },
  {
   "cell_type": "markdown",
   "metadata": {},
   "source": [
    "# Préparation "
   ]
  },
  {
   "cell_type": "markdown",
   "metadata": {},
   "source": [
    "## Imports"
   ]
  },
  {
   "cell_type": "code",
   "execution_count": 2,
   "metadata": {},
   "outputs": [],
   "source": [
    "import pandas as pd\n",
    "\n",
    "pd.options.display.max_columns = 100"
   ]
  },
  {
   "cell_type": "code",
   "execution_count": 3,
   "metadata": {},
   "outputs": [],
   "source": [
    "from src.utils import get_all_schema_path\n",
    "from tableschema import Schema"
   ]
  },
  {
   "cell_type": "markdown",
   "metadata": {},
   "source": [
    "## Lecture et mise en forme"
   ]
  },
  {
   "cell_type": "code",
   "execution_count": 4,
   "metadata": {},
   "outputs": [],
   "source": [
    "df = pd.read_csv(\"notebooks/Envoi_Dico Alimentation/Table_Variable_Modele_181214170701.csv\", \n",
    "                 encoding=\"latin1\", sep=';')\n",
    "df = df.drop(columns=['Chemin', 'Unnamed: 21', 'Unnamed: 22'])"
   ]
  },
  {
   "cell_type": "code",
   "execution_count": 5,
   "metadata": {},
   "outputs": [],
   "source": [
    "df.columns = ['produit', \n",
    "              'name_table', \n",
    "              'title_table', \n",
    "              'name', \n",
    "              'description',\n",
    "              'famille_concept', \n",
    "              'length', \n",
    "              'type', \n",
    "              'nomenclature', \n",
    "              'elementaire_ou_calculee', \n",
    "              'classe_donnee', \n",
    "              'regle_gestion', \n",
    "              'observation_variable',\n",
    "              'sensible_ou_medicale', \n",
    "              'type_objet', \n",
    "              'mode_acces',\n",
    "              'observation_produit_variable', \n",
    "              'liaison', \n",
    "              'observation_cumul', \n",
    "              'referentiel']"
   ]
  },
  {
   "cell_type": "code",
   "execution_count": 6,
   "metadata": {
    "scrolled": false
   },
   "outputs": [
    {
     "data": {
      "text/html": [
       "<div>\n",
       "<style scoped>\n",
       "    .dataframe tbody tr th:only-of-type {\n",
       "        vertical-align: middle;\n",
       "    }\n",
       "\n",
       "    .dataframe tbody tr th {\n",
       "        vertical-align: top;\n",
       "    }\n",
       "\n",
       "    .dataframe thead th {\n",
       "        text-align: right;\n",
       "    }\n",
       "</style>\n",
       "<table border=\"1\" class=\"dataframe\">\n",
       "  <thead>\n",
       "    <tr style=\"text-align: right;\">\n",
       "      <th></th>\n",
       "      <th>produit</th>\n",
       "      <th>name_table</th>\n",
       "      <th>title_table</th>\n",
       "      <th>name</th>\n",
       "      <th>description</th>\n",
       "      <th>famille_concept</th>\n",
       "      <th>length</th>\n",
       "      <th>type</th>\n",
       "      <th>nomenclature</th>\n",
       "      <th>elementaire_ou_calculee</th>\n",
       "      <th>classe_donnee</th>\n",
       "      <th>regle_gestion</th>\n",
       "      <th>observation_variable</th>\n",
       "      <th>sensible_ou_medicale</th>\n",
       "      <th>type_objet</th>\n",
       "      <th>mode_acces</th>\n",
       "      <th>observation_produit_variable</th>\n",
       "      <th>liaison</th>\n",
       "      <th>observation_cumul</th>\n",
       "      <th>referentiel</th>\n",
       "    </tr>\n",
       "  </thead>\n",
       "  <tbody>\n",
       "    <tr>\n",
       "      <th>0</th>\n",
       "      <td>IR_BEN_R</td>\n",
       "      <td>IR_BEN_R</td>\n",
       "      <td>Référentiel des bénéficiaires du SNIIRAM-SNDS</td>\n",
       "      <td>ASS_NIR_ANO</td>\n",
       "      <td>Matricule anonymisé de l'ouvreur de droits</td>\n",
       "      <td>Bénéficiaires</td>\n",
       "      <td>17</td>\n",
       "      <td>Caractère</td>\n",
       "      <td>NaN</td>\n",
       "      <td>NaN</td>\n",
       "      <td>NaN</td>\n",
       "      <td>NaN</td>\n",
       "      <td>NaN</td>\n",
       "      <td>NaN</td>\n",
       "      <td>NaN</td>\n",
       "      <td>SAS Guide</td>\n",
       "      <td>NaN</td>\n",
       "      <td>IR_BEN_RASS_NIR_ANO</td>\n",
       "      <td>\\n0</td>\n",
       "      <td>NaN</td>\n",
       "    </tr>\n",
       "    <tr>\n",
       "      <th>1</th>\n",
       "      <td>IR_BEN_R</td>\n",
       "      <td>IR_BEN_R</td>\n",
       "      <td>Référentiel des bénéficiaires du SNIIRAM-SNDS</td>\n",
       "      <td>BEN_IDT_ANO</td>\n",
       "      <td>Identifiant bénéficiaire anonymisé</td>\n",
       "      <td>Bénéficiaires</td>\n",
       "      <td>18</td>\n",
       "      <td>Varchar</td>\n",
       "      <td>NaN</td>\n",
       "      <td>Calculée</td>\n",
       "      <td>NaN</td>\n",
       "      <td>NaN</td>\n",
       "      <td>NaN</td>\n",
       "      <td>NaN</td>\n",
       "      <td>NaN</td>\n",
       "      <td>SAS Guide</td>\n",
       "      <td>NaN</td>\n",
       "      <td>IR_BEN_RBEN_IDT_ANO</td>\n",
       "      <td>\\n0</td>\n",
       "      <td>NaN</td>\n",
       "    </tr>\n",
       "  </tbody>\n",
       "</table>\n",
       "</div>"
      ],
      "text/plain": [
       "    produit name_table                                    title_table  \\\n",
       "0  IR_BEN_R   IR_BEN_R  Référentiel des bénéficiaires du SNIIRAM-SNDS   \n",
       "1  IR_BEN_R   IR_BEN_R  Référentiel des bénéficiaires du SNIIRAM-SNDS   \n",
       "\n",
       "          name                                 description famille_concept  \\\n",
       "0  ASS_NIR_ANO  Matricule anonymisé de l'ouvreur de droits   Bénéficiaires   \n",
       "1  BEN_IDT_ANO          Identifiant bénéficiaire anonymisé   Bénéficiaires   \n",
       "\n",
       "  length       type nomenclature elementaire_ou_calculee classe_donnee  \\\n",
       "0     17  Caractère          NaN                     NaN           NaN   \n",
       "1     18    Varchar          NaN                Calculée           NaN   \n",
       "\n",
       "  regle_gestion observation_variable sensible_ou_medicale type_objet  \\\n",
       "0           NaN                  NaN                  NaN        NaN   \n",
       "1           NaN                  NaN                  NaN        NaN   \n",
       "\n",
       "  mode_acces observation_produit_variable              liaison  \\\n",
       "0  SAS Guide                          NaN  IR_BEN_RASS_NIR_ANO   \n",
       "1  SAS Guide                          NaN  IR_BEN_RBEN_IDT_ANO   \n",
       "\n",
       "  observation_cumul referentiel  \n",
       "0               \\n0         NaN  \n",
       "1               \\n0         NaN  "
      ]
     },
     "execution_count": 6,
     "metadata": {},
     "output_type": "execute_result"
    }
   ],
   "source": [
    "df.head(2)"
   ]
  },
  {
   "cell_type": "code",
   "execution_count": 7,
   "metadata": {},
   "outputs": [
    {
     "data": {
      "text/plain": [
       "176"
      ]
     },
     "execution_count": 7,
     "metadata": {},
     "output_type": "execute_result"
    }
   ],
   "source": [
    "df.duplicated().sum()"
   ]
  },
  {
   "cell_type": "code",
   "execution_count": 8,
   "metadata": {
    "scrolled": true
   },
   "outputs": [],
   "source": [
    "df = df.drop_duplicates()"
   ]
  },
  {
   "cell_type": "markdown",
   "metadata": {},
   "source": [
    "## Signification variable Liaison\n",
    "combinaison du nom de table et variable, ou produit et …"
   ]
  },
  {
   "cell_type": "code",
   "execution_count": 9,
   "metadata": {
    "scrolled": false
   },
   "outputs": [
    {
     "data": {
      "text/plain": [
       "Series([], Name: liaison, dtype: int64)"
      ]
     },
     "execution_count": 9,
     "metadata": {},
     "output_type": "execute_result"
    }
   ],
   "source": [
    "mask = ((df.name_table + df.name != df.liaison) & \n",
    "        (df.produit + df.name != df.liaison) & \n",
    "        (df.produit + df.name_table != df.liaison)\n",
    "       )\n",
    "df[mask].liaison.str[:4].value_counts()"
   ]
  },
  {
   "cell_type": "markdown",
   "metadata": {},
   "source": [
    "## Nomenclatures"
   ]
  },
  {
   "cell_type": "code",
   "execution_count": 10,
   "metadata": {},
   "outputs": [],
   "source": [
    "from src.utils import get_all_nomenclatures_csv_schema_path\n",
    "\n",
    "nomenclatures_set = set(csv_path.split(\"/\")[-1][:-4] for csv_path, _ in get_all_nomenclatures_csv_schema_path())"
   ]
  },
  {
   "cell_type": "markdown",
   "metadata": {},
   "source": [
    "## Standardize values"
   ]
  },
  {
   "cell_type": "code",
   "execution_count": 11,
   "metadata": {},
   "outputs": [],
   "source": [
    "def map_with_mapping(s):\n",
    "    if s in mapping:\n",
    "        return mapping[s]\n",
    "    return s"
   ]
  },
  {
   "cell_type": "markdown",
   "metadata": {},
   "source": [
    "### fillna et strip\n"
   ]
  },
  {
   "cell_type": "code",
   "execution_count": 12,
   "metadata": {},
   "outputs": [],
   "source": [
    "df = df.fillna(\"\")"
   ]
  },
  {
   "cell_type": "code",
   "execution_count": 13,
   "metadata": {},
   "outputs": [],
   "source": [
    "for column in df.columns:\n",
    "    df[column] = df[column].str.strip()"
   ]
  },
  {
   "cell_type": "markdown",
   "metadata": {},
   "source": [
    "### name_table"
   ]
  },
  {
   "cell_type": "code",
   "execution_count": 14,
   "metadata": {},
   "outputs": [],
   "source": [
    "df.name_table = df.name_table.str.upper()"
   ]
  },
  {
   "cell_type": "markdown",
   "metadata": {},
   "source": [
    "### produit"
   ]
  },
  {
   "cell_type": "code",
   "execution_count": 15,
   "metadata": {},
   "outputs": [
    {
     "data": {
      "text/plain": [
       "CARTOGRAPHIE_PATHOLOGIES     711\n",
       "DCIRS                        409\n",
       "DCIR                         402\n",
       "EGB                          390\n",
       "EGBS                         377\n",
       "Univers SNIREP               370\n",
       "Univers BERF                 254\n",
       "Univers AMOS-EXE-PRS         240\n",
       "Univers DAMIR                168\n",
       "Suivi actes de biologie      160\n",
       "Univers AMOS-CDS             152\n",
       "Univers AMOS_ODS_LPP         150\n",
       "AMOS                         126\n",
       "Univers AMOS-CCAM-Prest      125\n",
       "Univers AMOS-CCAM-Associa    110\n",
       "DAMIR                         77\n",
       "BGNA                          75\n",
       "Causes de décès               61\n",
       "DCIR_DCIRS                    50\n",
       "Univers UCD                   45\n",
       "BENEFICIAIRE                  38\n",
       "Suivi actes de pharmacie      31\n",
       "Name: produit, dtype: int64"
      ]
     },
     "execution_count": 15,
     "metadata": {},
     "output_type": "execute_result"
    }
   ],
   "source": [
    "mapping = {\n",
    "    'CMDC': 'Causes de décès',\n",
    "    'CARTO' : 'CARTOGRAPHIE_PATHOLOGIES',\n",
    "    \"IR_BEN_R\" : \"BENEFICIAIRE\",\n",
    "    \"IR_IBA_R\" : \"BENEFICIAIRE\",\n",
    "    \"IR_IMB_R\" : \"DCIR_DCIRS\",\n",
    "    \"IR_ORC_R\" : \"DCIR_DCIRS\",\n",
    "    \"IR_ETM_R\" : \"DCIR_DCIRS\",\n",
    "    \"IR_ACS_R\" : \"DCIR_DCIRS\",\n",
    "    \"IR_MAT_R\" : \"DCIR_DCIRS\",\n",
    "    \"IR_MTT_R\" : \"DCIR_DCIRS\"\n",
    "}\n",
    "df.produit = df.produit.map(lambda s: mapping[s] if s in mapping else s)\n",
    "df.produit.value_counts()"
   ]
  },
  {
   "cell_type": "code",
   "execution_count": 16,
   "metadata": {},
   "outputs": [],
   "source": [
    "mapping = {\n",
    "    'Référentiel médicalisé du SNIIRAM-SNDS': 'Référentiel médicalisé des bénéficiaires (ALD)',\n",
    "    'Dépenses des 57 millions dassurés sélectionnés': \"Table dépenses de la cartographie des pathologies pour l'année AAAA et l'algorithme N\",\n",
    "    'Identifiants des 57 millions dassurés sélectionnés de lannée yyyy': \"Table individus de la cartographie des pathologies pour l'année AAAA et l'algorithme N\",\n",
    "    'Caractérisation des 57 M dassurés pr 56 grp de pathologies': \"Table pathologies de la cartographie des pathologies pour l'année AAAA et l'algorithme N\",    \n",
    "}\n",
    "df.title_table = df.title_table.map(lambda s: mapping[s] if s in mapping else s)"
   ]
  },
  {
   "cell_type": "markdown",
   "metadata": {},
   "source": [
    "#### Carto"
   ]
  },
  {
   "cell_type": "code",
   "execution_count": 17,
   "metadata": {},
   "outputs": [],
   "source": [
    "# => Vérification que toutes les tables sont identiques en fonction des années pour la carto\n",
    "\n",
    "for table in ['DEP', 'IDE', 'IND']:\n",
    "    for year1, year2 in [('2013', '2014'), ('2014', '2015')]:\n",
    "        table1 = 'CT_{}_{}_G4'.format(table, year1)\n",
    "        table2 = 'CT_{}_{}_G4'.format(table, year2)\n",
    "        df1 = df[df.name_table == table1].reset_index(drop=True).drop(columns=\"name_table\")\n",
    "        df2 = df[df.name_table == table2].reset_index(drop=True).drop(columns=\"name_table\")\n",
    "        assert df1.equals(df2)"
   ]
  },
  {
   "cell_type": "code",
   "execution_count": 18,
   "metadata": {},
   "outputs": [],
   "source": [
    "# Remise en forme du nom des tables\n",
    "mask = df.name_table.str.startswith(\"CT_\")\n",
    "df.name_table[mask] = df[mask].name_table.str[:7] + 'AAAA_GN'\n",
    "df = df.drop_duplicates()"
   ]
  },
  {
   "cell_type": "markdown",
   "metadata": {},
   "source": [
    "#### name"
   ]
  },
  {
   "cell_type": "code",
   "execution_count": 19,
   "metadata": {},
   "outputs": [],
   "source": [
    "df.name = df.name.str.rstrip(\"\\xa0\")"
   ]
  },
  {
   "cell_type": "markdown",
   "metadata": {},
   "source": [
    "### referentiel"
   ]
  },
  {
   "cell_type": "code",
   "execution_count": 20,
   "metadata": {},
   "outputs": [
    {
     "data": {
      "text/plain": [
       "                           3954\n",
       "IR_IBA_R                     33\n",
       "DA_PRA_R                     23\n",
       "IR_BEN_R                     22\n",
       "T_NMED                       10\n",
       "RG_AR_DET_FT - DA_PRA_R       2\n",
       "SNDA                          2\n",
       "FNPS                          1\n",
       "Name: referentiel, dtype: int64"
      ]
     },
     "execution_count": 20,
     "metadata": {},
     "output_type": "execute_result"
    }
   ],
   "source": [
    "mapping = {\n",
    "    'IR_IBA_R': 'IR_IBA_R',\n",
    "    'référentiel des bénéficiaires du SNIIRAM IR_BEN_R' : 'IR_BEN_R',\n",
    "    'DA_PRA_R': 'DA_PRA_R',\n",
    "    'T_NMED - Référentiel des Médicaments': 'T_NMED',\n",
    "    'RG_AR_DET_FT - DA_PRA_R': 'RG_AR_DET_FT - DA_PRA_R',\n",
    "    'SNDA': 'SNDA',\n",
    "    'Fichier National des Professionnels de Santé (FNPS)': 'FNPS',\n",
    "}\n",
    "df.referentiel = df.referentiel.map(map_with_mapping)\n",
    "df.referentiel.value_counts()"
   ]
  },
  {
   "cell_type": "markdown",
   "metadata": {},
   "source": [
    "### elementaire"
   ]
  },
  {
   "cell_type": "code",
   "execution_count": 21,
   "metadata": {},
   "outputs": [
    {
     "data": {
      "text/plain": [
       "               2896\n",
       "Élémentaire     770\n",
       "Calculée        381\n",
       "Name: elementaire_ou_calculee, dtype: int64"
      ]
     },
     "execution_count": 21,
     "metadata": {},
     "output_type": "execute_result"
    }
   ],
   "source": [
    "mapping = {\n",
    "    'Elémentaire': 'Élémentaire', \n",
    "    'Calculée': 'Calculée', \n",
    "    'Calculé': 'Calculée', \n",
    "    'Élémentaire': 'Élémentaire'\n",
    "}\n",
    "df.elementaire_ou_calculee = df.elementaire_ou_calculee.map(map_with_mapping)\n",
    "df.elementaire_ou_calculee.value_counts()"
   ]
  },
  {
   "cell_type": "markdown",
   "metadata": {},
   "source": [
    "### type"
   ]
  },
  {
   "cell_type": "code",
   "execution_count": 22,
   "metadata": {},
   "outputs": [
    {
     "data": {
      "text/plain": [
       "string    1981\n",
       "number    1772\n",
       "date       278\n",
       "            16\n",
       "Name: type, dtype: int64"
      ]
     },
     "execution_count": 22,
     "metadata": {},
     "output_type": "execute_result"
    }
   ],
   "source": [
    "mapping = {\n",
    "    \"Numérique\": \"number\",\n",
    "    \"Caractère\": \"string\",\n",
    "    \"Date\": \"date\",\n",
    "    \"numérique\": \"number\",\n",
    "    \"caractère\": \"string\",\n",
    "    \"VARCHAR2\": \"string\",\n",
    "    \"Varchar\": \"string\",\n",
    "    \"date\": \"date\"\n",
    "}\n",
    "df.type = df.type.map(lambda s: mapping[s] if s in mapping else s)\n",
    "\n",
    "df.type.value_counts()"
   ]
  },
  {
   "cell_type": "markdown",
   "metadata": {},
   "source": [
    "### lenght"
   ]
  },
  {
   "cell_type": "code",
   "execution_count": 23,
   "metadata": {
    "scrolled": true
   },
   "outputs": [
    {
     "data": {
      "text/html": [
       "<div>\n",
       "<style scoped>\n",
       "    .dataframe tbody tr th:only-of-type {\n",
       "        vertical-align: middle;\n",
       "    }\n",
       "\n",
       "    .dataframe tbody tr th {\n",
       "        vertical-align: top;\n",
       "    }\n",
       "\n",
       "    .dataframe thead th {\n",
       "        text-align: right;\n",
       "    }\n",
       "</style>\n",
       "<table border=\"1\" class=\"dataframe\">\n",
       "  <thead>\n",
       "    <tr style=\"text-align: right;\">\n",
       "      <th></th>\n",
       "      <th>produit</th>\n",
       "      <th>name_table</th>\n",
       "      <th>title_table</th>\n",
       "      <th>name</th>\n",
       "      <th>description</th>\n",
       "      <th>famille_concept</th>\n",
       "      <th>length</th>\n",
       "      <th>type</th>\n",
       "      <th>nomenclature</th>\n",
       "      <th>elementaire_ou_calculee</th>\n",
       "      <th>classe_donnee</th>\n",
       "      <th>regle_gestion</th>\n",
       "      <th>observation_variable</th>\n",
       "      <th>sensible_ou_medicale</th>\n",
       "      <th>type_objet</th>\n",
       "      <th>mode_acces</th>\n",
       "      <th>observation_produit_variable</th>\n",
       "      <th>liaison</th>\n",
       "      <th>observation_cumul</th>\n",
       "      <th>referentiel</th>\n",
       "    </tr>\n",
       "  </thead>\n",
       "  <tbody>\n",
       "    <tr>\n",
       "      <th>98</th>\n",
       "      <td>DCIRS</td>\n",
       "      <td>NS_PRS_F</td>\n",
       "      <td>Table des prestations</td>\n",
       "      <td>RGO_REM_TAU</td>\n",
       "      <td>Taux de remboursement (part Régime Obligatoire)</td>\n",
       "      <td>Prestations</td>\n",
       "      <td>5,2</td>\n",
       "      <td>number</td>\n",
       "      <td></td>\n",
       "      <td>Élémentaire</td>\n",
       "      <td></td>\n",
       "      <td></td>\n",
       "      <td></td>\n",
       "      <td></td>\n",
       "      <td></td>\n",
       "      <td>SAS Guide</td>\n",
       "      <td></td>\n",
       "      <td>DCIRSRGO_REM_TAU</td>\n",
       "      <td>0</td>\n",
       "      <td></td>\n",
       "    </tr>\n",
       "    <tr>\n",
       "      <th>106</th>\n",
       "      <td>DCIRS</td>\n",
       "      <td>NS_CAM_F</td>\n",
       "      <td>Table simplifiée des données de codage de la C...</td>\n",
       "      <td>CAM_ACT_PRU</td>\n",
       "      <td>Prix unitaire CCAM de l'acte médical</td>\n",
       "      <td>Prestations</td>\n",
       "      <td>7,2</td>\n",
       "      <td>number</td>\n",
       "      <td></td>\n",
       "      <td></td>\n",
       "      <td></td>\n",
       "      <td></td>\n",
       "      <td></td>\n",
       "      <td></td>\n",
       "      <td></td>\n",
       "      <td>SAS Guide</td>\n",
       "      <td></td>\n",
       "      <td>DCIRSCAM_ACT_PRU</td>\n",
       "      <td>0</td>\n",
       "      <td></td>\n",
       "    </tr>\n",
       "  </tbody>\n",
       "</table>\n",
       "</div>"
      ],
      "text/plain": [
       "    produit name_table                                        title_table  \\\n",
       "98    DCIRS   NS_PRS_F                              Table des prestations   \n",
       "106   DCIRS   NS_CAM_F  Table simplifiée des données de codage de la C...   \n",
       "\n",
       "            name                                      description  \\\n",
       "98   RGO_REM_TAU  Taux de remboursement (part Régime Obligatoire)   \n",
       "106  CAM_ACT_PRU             Prix unitaire CCAM de l'acte médical   \n",
       "\n",
       "    famille_concept length    type nomenclature elementaire_ou_calculee  \\\n",
       "98      Prestations    5,2  number                          Élémentaire   \n",
       "106     Prestations    7,2  number                                        \n",
       "\n",
       "    classe_donnee regle_gestion observation_variable sensible_ou_medicale  \\\n",
       "98                                                                          \n",
       "106                                                                         \n",
       "\n",
       "    type_objet mode_acces observation_produit_variable           liaison  \\\n",
       "98              SAS Guide                               DCIRSRGO_REM_TAU   \n",
       "106             SAS Guide                               DCIRSCAM_ACT_PRU   \n",
       "\n",
       "    observation_cumul referentiel  \n",
       "98                  0              \n",
       "106                 0              "
      ]
     },
     "execution_count": 23,
     "metadata": {},
     "output_type": "execute_result"
    }
   ],
   "source": [
    "mask = (df.length.str.contains('\\.') | df.length.str.contains('\\,'))\n",
    "df[mask].head(2)"
   ]
  },
  {
   "cell_type": "code",
   "execution_count": 24,
   "metadata": {},
   "outputs": [],
   "source": [
    "df.length = df.length.str.replace('.', ',').str.strip(',')"
   ]
  },
  {
   "cell_type": "markdown",
   "metadata": {},
   "source": [
    "### nomenclatures"
   ]
  },
  {
   "cell_type": "markdown",
   "metadata": {},
   "source": [
    "DONE\n",
    "- X ne pas prendre les nouveaux ir_pha_r dans er_pha_r et ns_pha_r\n",
    "- X ER_TIP_F/NS_PRS_F : TIP_ACT_PRU -> pas IR_DTE_V (prix)\n",
    "- X ER_TIP_F/NS_PRS_F : TIP_PUB_PRX -> pas IR_PRF_V (prix)\n",
    "- X IR_IMB_R : INS_DTE -> pas IR_IMB_R\n",
    "- X NS_BIO_F : BIO_ACT_QSN -> pas IR_BIO_R (quantité)\n",
    "- X NS_PHA_F : PHA_ACT_PRU -> pas IR_PHA_R\n",
    "- X dans dcir simplifié remplacer partout IR_ACT_V, IR_SPE_V par IR_SPA_D\n",
    "- CT_IND_AAAA_GN : beaucoup d'erreurs a priori\n",
    "- problème nomenclatures multiples\n",
    "- BE_IDE_R à traiter (on l'a pas, la récupérer ?)"
   ]
  },
  {
   "cell_type": "markdown",
   "metadata": {},
   "source": [
    "##### DONE\n",
    "\n"
   ]
  },
  {
   "cell_type": "code",
   "execution_count": 25,
   "metadata": {},
   "outputs": [
    {
     "data": {
      "text/html": [
       "<div>\n",
       "<style scoped>\n",
       "    .dataframe tbody tr th:only-of-type {\n",
       "        vertical-align: middle;\n",
       "    }\n",
       "\n",
       "    .dataframe tbody tr th {\n",
       "        vertical-align: top;\n",
       "    }\n",
       "\n",
       "    .dataframe thead th {\n",
       "        text-align: right;\n",
       "    }\n",
       "</style>\n",
       "<table border=\"1\" class=\"dataframe\">\n",
       "  <thead>\n",
       "    <tr style=\"text-align: right;\">\n",
       "      <th></th>\n",
       "      <th>name_table</th>\n",
       "      <th>name</th>\n",
       "      <th>nomenclature</th>\n",
       "    </tr>\n",
       "  </thead>\n",
       "  <tbody>\n",
       "    <tr>\n",
       "      <th>66</th>\n",
       "      <td>IR_IMB_R</td>\n",
       "      <td>MED_MTF_COD</td>\n",
       "      <td>IR_CCI_V, IR_CIM_V</td>\n",
       "    </tr>\n",
       "    <tr>\n",
       "      <th>327</th>\n",
       "      <td>NS_PRS_F</td>\n",
       "      <td>PSP_ACT_SPE</td>\n",
       "      <td>IR_ACT_V, IR_SPE_V</td>\n",
       "    </tr>\n",
       "    <tr>\n",
       "      <th>1460</th>\n",
       "      <td>EB_IMB_R</td>\n",
       "      <td>MED_MTF_COD</td>\n",
       "      <td>IR_CCI_V, IR_CIM_V</td>\n",
       "    </tr>\n",
       "    <tr>\n",
       "      <th>1699</th>\n",
       "      <td>ES_PRS_F</td>\n",
       "      <td>PSP_ACT_SPE</td>\n",
       "      <td>IR_ACT_V, IR_SPE_V</td>\n",
       "    </tr>\n",
       "    <tr>\n",
       "      <th>1864</th>\n",
       "      <td>KI_CCI_R</td>\n",
       "      <td>CAT_PCS_COD</td>\n",
       "      <td>DS_PC1_V, DS_PC2_V</td>\n",
       "    </tr>\n",
       "    <tr>\n",
       "      <th>1866</th>\n",
       "      <td>KI_CCI_R</td>\n",
       "      <td>DCD_CIM_COD</td>\n",
       "      <td>IR_CCI_V, IR_CIM_V</td>\n",
       "    </tr>\n",
       "    <tr>\n",
       "      <th>1900</th>\n",
       "      <td>KI_ECD_R</td>\n",
       "      <td>ECD_CIM_COD</td>\n",
       "      <td>IR_CCI_V, IR_CIM_V</td>\n",
       "    </tr>\n",
       "    <tr>\n",
       "      <th>2633</th>\n",
       "      <td>RG_AR_DET_FT_AAAAMM</td>\n",
       "      <td>PSP_ACT_SPE</td>\n",
       "      <td>IR_ACT_V, IR_SPE_V</td>\n",
       "    </tr>\n",
       "    <tr>\n",
       "      <th>2659</th>\n",
       "      <td>RG_AR_DET_FT</td>\n",
       "      <td>PSP_ACT_SPE</td>\n",
       "      <td>IR_ACT_V, IR_SPE_V</td>\n",
       "    </tr>\n",
       "  </tbody>\n",
       "</table>\n",
       "</div>"
      ],
      "text/plain": [
       "               name_table         name        nomenclature\n",
       "66               IR_IMB_R  MED_MTF_COD  IR_CCI_V, IR_CIM_V\n",
       "327              NS_PRS_F  PSP_ACT_SPE  IR_ACT_V, IR_SPE_V\n",
       "1460             EB_IMB_R  MED_MTF_COD  IR_CCI_V, IR_CIM_V\n",
       "1699             ES_PRS_F  PSP_ACT_SPE  IR_ACT_V, IR_SPE_V\n",
       "1864             KI_CCI_R  CAT_PCS_COD  DS_PC1_V, DS_PC2_V\n",
       "1866             KI_CCI_R  DCD_CIM_COD  IR_CCI_V, IR_CIM_V\n",
       "1900             KI_ECD_R  ECD_CIM_COD  IR_CCI_V, IR_CIM_V\n",
       "2633  RG_AR_DET_FT_AAAAMM  PSP_ACT_SPE  IR_ACT_V, IR_SPE_V\n",
       "2659         RG_AR_DET_FT  PSP_ACT_SPE  IR_ACT_V, IR_SPE_V"
      ]
     },
     "execution_count": 25,
     "metadata": {},
     "output_type": "execute_result"
    }
   ],
   "source": [
    "mask = df.nomenclature.str.contains(',')\n",
    "\n",
    "df.loc[mask,[\"name_table\", \"name\", \"nomenclature\"]]"
   ]
  },
  {
   "cell_type": "code",
   "execution_count": 26,
   "metadata": {},
   "outputs": [],
   "source": [
    "df.loc[mask, 'nomenclature'] = ''"
   ]
  },
  {
   "cell_type": "code",
   "execution_count": 27,
   "metadata": {},
   "outputs": [],
   "source": [
    "mask = (df.nomenclature.isin([\"BE_IDE_R\"]))\n",
    "df.loc[mask,[\"produit\", \"name_table\", \"name\", \"nomenclature\"]]\n",
    "df.loc[mask, 'nomenclature'] = ''"
   ]
  },
  {
   "cell_type": "code",
   "execution_count": 28,
   "metadata": {},
   "outputs": [],
   "source": [
    "df.nomenclature = (df.nomenclature\n",
    "                   .replace('IR_ACT_V, IR_SPE_V', \"IR_SPA_D\")\n",
    "                   .replace('IR_IMB_R', '')\n",
    "                  )"
   ]
  },
  {
   "cell_type": "code",
   "execution_count": 29,
   "metadata": {},
   "outputs": [],
   "source": [
    "mask = df.name.isin(['PHA_ACT_PRU', 'BIO_ACT_QSN', 'INS_DTE', 'TIP_PUB_PRX', 'TIP_ACT_PRU'])\n",
    "df.loc[mask, 'nomenclature'] = ''"
   ]
  },
  {
   "cell_type": "code",
   "execution_count": 30,
   "metadata": {
    "scrolled": true
   },
   "outputs": [],
   "source": [
    "mask = (df.nomenclature == \"IR_PHA_R\") & df.name_table.isin(['ER_PHA_F', 'NS_PHA_F'])\n",
    "df.loc[mask, 'nomenclature'] = ''"
   ]
  },
  {
   "cell_type": "code",
   "execution_count": 31,
   "metadata": {
    "scrolled": true
   },
   "outputs": [],
   "source": [
    "mask = (df.name_table.isin(['CT_IND_AAAA_GN']) & df.nomenclature.isin(['IR_PRF_V', \"IR_PHA_R\", \"IR_DTE_V\"]))\n",
    "df.loc[mask, 'nomenclature'] = ''"
   ]
  },
  {
   "cell_type": "code",
   "execution_count": 32,
   "metadata": {
    "scrolled": true
   },
   "outputs": [],
   "source": [
    "mask = (df.name_table.isin(['ER_DCT_F']) & df.nomenclature.isin([\"IR_PMC_V\"]))\n",
    "df.loc[mask, 'nomenclature'] = ''"
   ]
  },
  {
   "cell_type": "code",
   "execution_count": 33,
   "metadata": {
    "scrolled": true
   },
   "outputs": [
    {
     "data": {
      "text/html": [
       "<div>\n",
       "<style scoped>\n",
       "    .dataframe tbody tr th:only-of-type {\n",
       "        vertical-align: middle;\n",
       "    }\n",
       "\n",
       "    .dataframe tbody tr th {\n",
       "        vertical-align: top;\n",
       "    }\n",
       "\n",
       "    .dataframe thead th {\n",
       "        text-align: right;\n",
       "    }\n",
       "</style>\n",
       "<table border=\"1\" class=\"dataframe\">\n",
       "  <thead>\n",
       "    <tr style=\"text-align: right;\">\n",
       "      <th></th>\n",
       "      <th>produit</th>\n",
       "      <th>name_table</th>\n",
       "      <th>title_table</th>\n",
       "      <th>name</th>\n",
       "      <th>description</th>\n",
       "      <th>famille_concept</th>\n",
       "      <th>length</th>\n",
       "      <th>type</th>\n",
       "      <th>nomenclature</th>\n",
       "      <th>elementaire_ou_calculee</th>\n",
       "      <th>classe_donnee</th>\n",
       "      <th>regle_gestion</th>\n",
       "      <th>observation_variable</th>\n",
       "      <th>sensible_ou_medicale</th>\n",
       "      <th>type_objet</th>\n",
       "      <th>mode_acces</th>\n",
       "      <th>observation_produit_variable</th>\n",
       "      <th>liaison</th>\n",
       "      <th>observation_cumul</th>\n",
       "      <th>referentiel</th>\n",
       "    </tr>\n",
       "  </thead>\n",
       "  <tbody>\n",
       "    <tr>\n",
       "      <th>65</th>\n",
       "      <td>DCIR_DCIRS</td>\n",
       "      <td>IR_IMB_R</td>\n",
       "      <td>Référentiel médicalisé des bénéficiaires (ALD)</td>\n",
       "      <td>INS_DTE</td>\n",
       "      <td>Date d'insertion</td>\n",
       "      <td>Technique</td>\n",
       "      <td>8</td>\n",
       "      <td>date</td>\n",
       "      <td></td>\n",
       "      <td>Élémentaire</td>\n",
       "      <td></td>\n",
       "      <td></td>\n",
       "      <td></td>\n",
       "      <td></td>\n",
       "      <td></td>\n",
       "      <td>SAS Guide</td>\n",
       "      <td></td>\n",
       "      <td>IR_IMB_RINS_DTE</td>\n",
       "      <td>0</td>\n",
       "      <td></td>\n",
       "    </tr>\n",
       "    <tr>\n",
       "      <th>1431</th>\n",
       "      <td>EGB</td>\n",
       "      <td>EB_IMB_R</td>\n",
       "      <td>Table des données médicalisées des bénéficiair...</td>\n",
       "      <td>INS_DTE</td>\n",
       "      <td>Date d'insertion</td>\n",
       "      <td>Technique</td>\n",
       "      <td>8</td>\n",
       "      <td>date</td>\n",
       "      <td></td>\n",
       "      <td>Élémentaire</td>\n",
       "      <td></td>\n",
       "      <td></td>\n",
       "      <td></td>\n",
       "      <td></td>\n",
       "      <td></td>\n",
       "      <td>SAS Guide</td>\n",
       "      <td>Dans la table du référentiel médicalisé IR_IMB...</td>\n",
       "      <td>EGBINS_DTE</td>\n",
       "      <td>Dans la table du référentiel médicalisé IR_IMB...</td>\n",
       "      <td></td>\n",
       "    </tr>\n",
       "    <tr>\n",
       "      <th>1432</th>\n",
       "      <td>EGB</td>\n",
       "      <td>EB_INB_F</td>\n",
       "      <td>référentiel des bénéficiaires de l'EGB</td>\n",
       "      <td>INS_DTE</td>\n",
       "      <td>Date d'insertion</td>\n",
       "      <td>Technique</td>\n",
       "      <td>8</td>\n",
       "      <td>date</td>\n",
       "      <td></td>\n",
       "      <td>Élémentaire</td>\n",
       "      <td></td>\n",
       "      <td></td>\n",
       "      <td></td>\n",
       "      <td></td>\n",
       "      <td></td>\n",
       "      <td>SAS Guide</td>\n",
       "      <td>Dans la table du référentiel médicalisé IR_IMB...</td>\n",
       "      <td>EGBINS_DTE</td>\n",
       "      <td>Dans la table du référentiel médicalisé IR_IMB...</td>\n",
       "      <td></td>\n",
       "    </tr>\n",
       "  </tbody>\n",
       "</table>\n",
       "</div>"
      ],
      "text/plain": [
       "         produit name_table  \\\n",
       "65    DCIR_DCIRS   IR_IMB_R   \n",
       "1431         EGB   EB_IMB_R   \n",
       "1432         EGB   EB_INB_F   \n",
       "\n",
       "                                            title_table     name  \\\n",
       "65       Référentiel médicalisé des bénéficiaires (ALD)  INS_DTE   \n",
       "1431  Table des données médicalisées des bénéficiair...  INS_DTE   \n",
       "1432             référentiel des bénéficiaires de l'EGB  INS_DTE   \n",
       "\n",
       "           description famille_concept length  type nomenclature  \\\n",
       "65    Date d'insertion       Technique      8  date                \n",
       "1431  Date d'insertion       Technique      8  date                \n",
       "1432  Date d'insertion       Technique      8  date                \n",
       "\n",
       "     elementaire_ou_calculee classe_donnee regle_gestion observation_variable  \\\n",
       "65               Élémentaire                                                    \n",
       "1431             Élémentaire                                                    \n",
       "1432             Élémentaire                                                    \n",
       "\n",
       "     sensible_ou_medicale type_objet mode_acces  \\\n",
       "65                                    SAS Guide   \n",
       "1431                                  SAS Guide   \n",
       "1432                                  SAS Guide   \n",
       "\n",
       "                           observation_produit_variable          liaison  \\\n",
       "65                                                       IR_IMB_RINS_DTE   \n",
       "1431  Dans la table du référentiel médicalisé IR_IMB...       EGBINS_DTE   \n",
       "1432  Dans la table du référentiel médicalisé IR_IMB...       EGBINS_DTE   \n",
       "\n",
       "                                      observation_cumul referentiel  \n",
       "65                                                    0              \n",
       "1431  Dans la table du référentiel médicalisé IR_IMB...              \n",
       "1432  Dans la table du référentiel médicalisé IR_IMB...              "
      ]
     },
     "execution_count": 33,
     "metadata": {},
     "output_type": "execute_result"
    }
   ],
   "source": [
    "mask = df.name.isin(['INS_DTE'])\n",
    "df[mask]"
   ]
  },
  {
   "cell_type": "markdown",
   "metadata": {},
   "source": [
    "### description"
   ]
  },
  {
   "cell_type": "code",
   "execution_count": 34,
   "metadata": {
    "scrolled": true
   },
   "outputs": [
    {
     "data": {
      "text/plain": [
       "827     Indicateur Référentiel EPK\n",
       "1216    Indicateur Référentiel EPK\n",
       "Name: description, dtype: object"
      ]
     },
     "execution_count": 34,
     "metadata": {},
     "output_type": "execute_result"
    }
   ],
   "source": [
    "df[df.description.str.contains(\"EPK\")].description"
   ]
  },
  {
   "cell_type": "code",
   "execution_count": 35,
   "metadata": {},
   "outputs": [],
   "source": [
    "for abbrev, nom in [\n",
    "    (\"Cpt\", \"comptable\"),\n",
    "    (\"Regul\", \"régulation\"),\n",
    "    (\"Dcpte\", \"décompte\"),\n",
    "    (\"Prs\", \"Prestation\"),\n",
    "    (\"Pharma\", \"pharmacie\"),\n",
    "    (\"EPK\",\"Entente Préalable kinésithérapie\")\n",
    "\n",
    "]:\n",
    "    df.description = df.description.str.replace(abbrev, nom)"
   ]
  },
  {
   "cell_type": "code",
   "execution_count": 36,
   "metadata": {
    "scrolled": false
   },
   "outputs": [],
   "source": [
    "mapping = {\n",
    "    \"anomalie\": \"\",\n",
    "}\n",
    "df.description = df.description.map(lambda s: mapping[s] if s in mapping else s)"
   ]
  },
  {
   "cell_type": "markdown",
   "metadata": {},
   "source": [
    "## Préparation produits"
   ]
  },
  {
   "cell_type": "code",
   "execution_count": 37,
   "metadata": {
    "scrolled": true
   },
   "outputs": [],
   "source": [
    "produit_a_garder = [\n",
    "    'CARTOGRAPHIE_PATHOLOGIES',\n",
    " 'DCIR',\n",
    " 'DCIRS',\n",
    " 'Causes de décès',\n",
    " 'DCIR_DCIRS',\n",
    " 'BENEFICIAIRE',\n",
    " ]\n",
    "\n",
    "df = df[df.produit.isin(produit_a_garder)]"
   ]
  },
  {
   "cell_type": "code",
   "execution_count": 38,
   "metadata": {
    "scrolled": true
   },
   "outputs": [],
   "source": [
    "xdf = df[df.name_table == 'CT_IND_AAAA_GN']"
   ]
  },
  {
   "cell_type": "markdown",
   "metadata": {},
   "source": [
    "## Create descriptor"
   ]
  },
  {
   "cell_type": "code",
   "execution_count": 39,
   "metadata": {
    "scrolled": false
   },
   "outputs": [
    {
     "name": "stdout",
     "output_type": "stream",
     "text": [
      "\n",
      "DCIR_DCIRS IR_ACS_R Table historique des affiliations à l'aide à la complémentaire santé\n",
      "- Variables absente dans le schéma IND_RNM_BEN\n",
      "\n",
      "DCIR_DCIRS IR_MTT_R Table historique des médecins traitants\n",
      "- Variable absente dans le dico cnam MTT_DEP_DTE\n",
      "- Variable absente dans le dico cnam MTT_FIN_DTE\n",
      "- Variable absente dans le dico cnam MTT_MTF_COD\n",
      "- Variable absente dans le dico cnam MTT_ORI_COD\n",
      "- Variable absente dans le dico cnam MTT_PFS_NUM\n",
      "\n",
      "DCIRS NS_BIO_F Table simplifiée des données de codage de biologie\n",
      "- Variable absente dans le dico cnam RGO_REM_TAU\n",
      "\n",
      "DCIRS NS_PRS_F Table des prestations\n",
      "- Variable absente dans le dico cnam BEN_RES_COM\n",
      "\n",
      "DCIR ER_PRS_F Table des prestations\n",
      "- Variables absente dans le schéma PRS_TYP_MAJ\n",
      "- Variables absente dans le schéma PRS_DRA_AME\n",
      "- Variables absente dans le schéma PRS_MNT_MAJ\n",
      "- Variables absente dans le schéma PRE_IND_PEL\n",
      "- Variables absente dans le schéma PRS_DIS_PRE\n",
      "- Variables absente dans le schéma CPL_FTA_COD\n",
      "- Variables absente dans le schéma EXE_CTX_BEN\n",
      "- Variables absente dans le schéma BEN_CTA_TYP\n",
      "- Variables absente dans le schéma PRS_PPU_SEC\n",
      "- Variables absente dans le schéma PRS_QTT_MAJ\n",
      "- Variables absente dans le schéma DRG_AFF_NAT\n",
      "- Variables absente dans le schéma CPL_REM_TAU\n",
      "- Variables absente dans le schéma EXE_CTX_PFS\n",
      "- Variables absente dans le schéma BEN_ACS_TOP\n",
      "- Variables absente dans le schéma BEN_DRT_SPF\n",
      "- Variable absente dans le dico cnam PFS_EXE_NUMC\n",
      "- Variable absente dans le dico cnam PFS_PRE_NUMC\n",
      "- Variable absente dans le dico cnam PRS_MTT_NUMC\n",
      "- Variable absente dans le dico cnam PSP_PPS_NUMC\n",
      "\n",
      "DCIR ER_TRS_F Table des données détaillées de transport\n",
      "- Variables absente dans le schéma TRS_DTF_AME\n",
      "- Variables absente dans le schéma TRS_DTF_DTE\n",
      "- Variables absente dans le schéma TRS_DTD_AME\n",
      "- Variables absente dans le schéma TRS_DTD_DTE\n",
      "- Variable absente dans le dico cnam TRS_ACP_NOMC\n",
      "- Variable absente dans le dico cnam TRS_CDR_NOMC\n",
      "- Variable absente dans le dico cnam TRS_VEH_NUMC\n",
      "\n",
      "DCIR ER_ANO_F Table des anomalies\n",
      "- Variable absente dans le dico cnam DCT_ORD_NUM\n",
      "- Variable absente dans le dico cnam REM_TYP_AFF\n",
      "\n",
      "DCIR ER_ARO_F Table des données de remboursements complémentaires\n",
      "- Variable absente dans le dico cnam ARO_THE_TAU\n",
      "- Variable absente dans le dico cnam DCT_ORD_NUM\n",
      "\n",
      "DCIR ER_BIO_F Table des données de codage de biologie\n",
      "- Variables absente dans le schéma ARO_THE_TAU\n",
      "- Variable absente dans le dico cnam DCT_ORD_NUM\n",
      "\n",
      "DCIR ER_CAM_F Table des données de codage de la Classification Commune des Actes Médicaux\n",
      "- Variables absente dans le schéma CAM_MI1_MNT\n",
      "- Variables absente dans le schéma CAM_MI2_MNT\n",
      "- Variables absente dans le schéma CAM_MM3_MNT\n",
      "- Variables absente dans le schéma CAM_RED_MNT\n",
      "- Variables absente dans le schéma CAM_MM1_MNT\n",
      "- Variables absente dans le schéma CAM_MI4_MNT\n",
      "- Variables absente dans le schéma CAM_MM4_MNT\n",
      "- Variables absente dans le schéma CAM_GRI_TAR\n",
      "- Variables absente dans le schéma CAM_MPU_MNT\n",
      "- Variables absente dans le schéma CAM_MI3_MNT\n",
      "- Variables absente dans le schéma CAM_NRM_MNT\n",
      "- Variables absente dans le schéma CAM_MM2_MNT\n",
      "- Variables absente dans le schéma CAM_SUP_MNT\n",
      "- Variable absente dans le dico cnam DCT_ORD_NUM\n",
      "\n",
      "DCIR ER_CPT_F Table des données comptables\n",
      "- Variable absente dans le dico cnam DCT_ORD_NUM\n",
      "\n",
      "DCIR ER_DCT_F Table des données de décompte\n",
      "- Variable absente dans le dico cnam DCT_EMT_IDT\n",
      "- Variable absente dans le dico cnam DCT_ORD_NUM\n",
      "- Variable absente dans le dico cnam PRS_ORD_NUM\n",
      "- Variable absente dans le dico cnam REM_TYP_AFF\n",
      "\n",
      "DCIR ER_ETE_F Table des données des établissements\n",
      "- Variable absente dans le dico cnam PRS_PPU_SEC\n",
      "- Variable absente dans le dico cnam DCT_ORD_NUM\n",
      "\n",
      "CARTOGRAPHIE_PATHOLOGIES CT_DEP_AAAA_GN Table dépenses de la cartographie des pathologies pour l'année AAAA et l'algorithme N\n",
      "- Variables absente dans le schéma BEN_DCD_AME\n",
      "- Variable absente dans le dico cnam ben_dcd_dte\n",
      "\n",
      "CARTOGRAPHIE_PATHOLOGIES CT_IND_AAAA_GN Table pathologies de la cartographie des pathologies pour l'année AAAA et l'algorithme N\n",
      "- Variables absente dans le schéma BEN_DCD_AME\n",
      "- Variable absente dans le dico cnam ben_dcd_dte\n"
     ]
    }
   ],
   "source": [
    "for i, (produit, name_table) in df[[\"produit\", 'name_table']].drop_duplicates().iterrows():\n",
    "    # Restriction table\n",
    "    sdf = df[(df.produit == produit) & (df.name_table == name_table)]\n",
    "    \n",
    "    assert sdf.title_table.nunique() == 1\n",
    "    title = sdf.title_table.unique()[0]\n",
    "\n",
    "   \n",
    "    # Lecture schema\n",
    "    schema_path = \"schemas/{}/{}.json\".format(produit, name_table)\n",
    "    assert os.path.exists(schema_path)\n",
    "    schema = Schema(schema_path)\n",
    "\n",
    "    \n",
    "    # MAJ table\n",
    "    schema.descriptor.update({\n",
    "        \"name\": name_table, \n",
    "        \"title\": title, \n",
    "        \"produit\": produit\n",
    "    })\n",
    "    \n",
    "    \n",
    "    # Différences d'ensembles de variables\n",
    "    schema_names = set([name.upper() for name in schema.field_names]) \n",
    "    dico_names = set(sdf.name)\n",
    "    set_schema_dico = schema_names - dico_names\n",
    "    set_dico_schema = dico_names - schema_names\n",
    "      \n",
    "\n",
    "    if set_schema_dico or set_dico_schema:\n",
    "        print()\n",
    "        print(produit, name_table, title) \n",
    "        if set_dico_schema:\n",
    "            for field in set_dico_schema:\n",
    "                print(\"- Variables absente dans le schéma\", field)\n",
    "    \n",
    "    # MAJ variables\n",
    "    for field in schema.descriptor['fields']:\n",
    "        name = field['name']\n",
    "        if not name.upper() in dico_names:\n",
    "            print('- Variable absente dans le dico cnam', name)\n",
    "            continue\n",
    "        \n",
    "        columns_to_update = ['description', 'type', 'nomenclature', 'length']\n",
    "        columns_to_update = ['nomenclature']\n",
    "        record = sdf[sdf.name == name.upper()][columns_to_update].to_dict(orient=\"records\")[0]\n",
    "        for key in columns_to_update:\n",
    "            if record[key] == \"\":\n",
    "                record.pop(key)\n",
    "        field.update(record)\n",
    "    \n",
    "    try:\n",
    "        schema.commit(strict=True)\n",
    "    except Exception as e:\n",
    "        print(e.errors)\n",
    "        raise e\n",
    "    \n",
    "    schema.save(schema_path, ensure_ascii=False)"
   ]
  },
  {
   "cell_type": "code",
   "execution_count": null,
   "metadata": {},
   "outputs": [],
   "source": []
  },
  {
   "cell_type": "code",
   "execution_count": null,
   "metadata": {},
   "outputs": [],
   "source": []
  }
 ],
 "metadata": {
  "kernelspec": {
   "display_name": "Python 3",
   "language": "python",
   "name": "python3"
  },
  "language_info": {
   "codemirror_mode": {
    "name": "ipython",
    "version": 3
   },
   "file_extension": ".py",
   "mimetype": "text/x-python",
   "name": "python",
   "nbconvert_exporter": "python",
   "pygments_lexer": "ipython3",
   "version": "3.7.3"
  }
 },
 "nbformat": 4,
 "nbformat_minor": 2
}
